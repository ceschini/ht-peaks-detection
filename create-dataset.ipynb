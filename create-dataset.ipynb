{
 "cells": [
  {
   "attachments": {},
   "cell_type": "markdown",
   "metadata": {},
   "source": [
    "# Dataset Creation Scripts"
   ]
  },
  {
   "attachments": {},
   "cell_type": "markdown",
   "metadata": {},
   "source": [
    "Here we will elaborate a random line samples generator for our hough line peak extraction model. We need to first generate random lines, followed by random noise and then apply hough transform to get our desired prediction label."
   ]
  },
  {
   "attachments": {},
   "cell_type": "markdown",
   "metadata": {},
   "source": [
    "## Imports"
   ]
  },
  {
   "cell_type": "code",
   "execution_count": 5,
   "metadata": {},
   "outputs": [],
   "source": [
    "import random\n",
    "import numpy as np\n",
    "from skimage import draw\n",
    "import matplotlib.pyplot as plt\n",
    "from matplotlib import cm\n",
    "from skimage.transform import hough_line, hough_line_peaks\n",
    "\n",
    "%matplotlib inline\n"
   ]
  },
  {
   "attachments": {},
   "cell_type": "markdown",
   "metadata": {},
   "source": [
    "## Aux Functions"
   ]
  },
  {
   "cell_type": "code",
   "execution_count": 2,
   "metadata": {},
   "outputs": [],
   "source": [
    "def random_coords(width, height):\n",
    "    return int(random.random() * width), int(random.random() * height)\n"
   ]
  },
  {
   "cell_type": "code",
   "execution_count": 3,
   "metadata": {},
   "outputs": [],
   "source": [
    "def draw_random_lines(numLines, image, dims):\n",
    "    for _ in range(numLines):\n",
    "        x0, y0 = random_coords(dims[0], dims[1])\n",
    "        x1, y1 = random_coords(dims[0], dims[1])\n",
    "        image[draw.line(x0, y0, x1, y1)] = 255\n",
    "\n",
    "    return image\n"
   ]
  },
  {
   "cell_type": "code",
   "execution_count": 4,
   "metadata": {},
   "outputs": [],
   "source": [
    "def draw_bezier_noise(numNoise, image, dims):\n",
    "    for _ in range(numNoise):\n",
    "        r0, c0 = random_coords(dims[0], dims[1])\n",
    "        r1, c1 = random_coords(dims[0], dims[1])\n",
    "        r2, c2 = random_coords(dims[0], dims[1])\n",
    "        image[draw.bezier_curve(r0, c0, r1, c1, r2, c2, 0.5)] = 255\n",
    "    return image\n"
   ]
  },
  {
   "cell_type": "code",
   "execution_count": null,
   "metadata": {},
   "outputs": [],
   "source": []
  }
 ],
 "metadata": {
  "kernelspec": {
   "display_name": ".venv",
   "language": "python",
   "name": "python3"
  },
  "language_info": {
   "codemirror_mode": {
    "name": "ipython",
    "version": 3
   },
   "file_extension": ".py",
   "mimetype": "text/x-python",
   "name": "python",
   "nbconvert_exporter": "python",
   "pygments_lexer": "ipython3",
   "version": "3.10.6"
  },
  "orig_nbformat": 4
 },
 "nbformat": 4,
 "nbformat_minor": 2
}
