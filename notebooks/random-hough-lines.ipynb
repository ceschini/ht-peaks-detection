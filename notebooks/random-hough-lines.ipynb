{
 "cells": [
  {
   "attachments": {},
   "cell_type": "markdown",
   "metadata": {},
   "source": [
    "# Random Line Generator\n",
    "### Using the ρ = x cos θ + y sin θ parametrization"
   ]
  },
  {
   "attachments": {},
   "cell_type": "markdown",
   "metadata": {},
   "source": [
    "Inspiration for the line generation from [here](https://www.apress.com/gp/blog/all-blog-posts/drawing-random-lines-in-python/16975626).\n",
    "Noise is being added by [skimage.draw.bezier_curve](https://scikit-image.org/docs/stable/api/skimage.draw.html#bezier-curve)."
   ]
  },
  {
   "cell_type": "code",
   "execution_count": 111,
   "metadata": {},
   "outputs": [],
   "source": [
    "import random\n",
    "import numpy as np\n",
    "from skimage import draw\n",
    "import matplotlib.pyplot as plt\n",
    "from matplotlib import cm\n",
    "import cv2"
   ]
  },
  {
   "cell_type": "code",
   "execution_count": 112,
   "metadata": {},
   "outputs": [],
   "source": [
    "def random_coords(width, height):\n",
    "    return int(random.random() * width), int(random.random() * height)"
   ]
  },
  {
   "cell_type": "code",
   "execution_count": 113,
   "metadata": {},
   "outputs": [],
   "source": [
    "# the hough line parametrization:\n",
    "# ρ = x cos θ + y sin θ\n",
    "# where:\n",
    "# ρ (rho) = distance from origin to the line. [-max_dist to max_dist]. max_dist is the diagonal length of the image. \n",
    "# θ = angle from origin to the line. [-90° to 90°]\n",
    "\n",
    "def draw_random_lines(numLines, image, dims):\n",
    "    # Rho and Theta ranges\n",
    "    thetas = np.deg2rad(np.arange(-90.0, 90.0, 0.1))\n",
    "    width, height = dims\n",
    "    diag_len = np.ceil(np.sqrt(width * width + height * height))   # max_dist\n",
    "    rhos = np.linspace(-diag_len, diag_len, int(diag_len * 2.0), endpoint=False)\n",
    "\n",
    "    for i in range(numLines):\n",
    "        # random theta ando rho values\n",
    "        theta = np.random.uniform(-np.pi/2, np.pi/2)\n",
    "        rho = np.random.uniform(-diag_len, diag_len)\n",
    "        print(\"theta = {:.2f}, rho = {:.2f}\".format(theta, rho))  \n",
    "        \n",
    "        # calculate the x,y coordinates of the line and draw it on the image\n",
    "        x0 = rho * np.cos(theta)\n",
    "        y0 = rho * np.sin(theta)\n",
    "        x1 = int(x0 + 1000 * (-np.sin(theta)))\n",
    "        y1 = int(y0 + 1000 * (np.cos(theta)))\n",
    "        x2 = int(x0 - 1000 * (-np.sin(theta)))\n",
    "        y2 = int(y0 - 1000 * (np.cos(theta)))\n",
    "        cv2.line(image, (x1, y1), (x2, y2), (255, 0, 0), 1)\n",
    "        print(\"x0 = {:.2f}, y0 = {:.2f}, x1 = {:.2f}, y1 = {:.2f}, x2 = {:.2f}, y2 = {:.2f}\".format(x0, y0, x1, y1, x2, y2))  \n",
    "\n",
    "    return image"
   ]
  },
  {
   "cell_type": "code",
   "execution_count": 114,
   "metadata": {},
   "outputs": [],
   "source": [
    "#def draw_bezier_noise(numNoise, image, dims):\n",
    "    #for _ in range(numNoise):\n",
    "        #r0, c0 = random_coords(dims[0], dims[1])\n",
    "        #r1, c1 = random_coords(dims[0], dims[1])\n",
    "        #r2, c2 = random_coords(dims[0], dims[1])\n",
    "        #image[draw.bezier_curve(r0,c0,r1,c1,r2,c2, 0.5)] = 255\n",
    "    #return image"
   ]
  },
  {
   "cell_type": "code",
   "execution_count": 115,
   "metadata": {},
   "outputs": [
    {
     "name": "stdout",
     "output_type": "stream",
     "text": [
      "theta = -0.50, rho = -47.94\n",
      "x0 = -42.01, y0 = 23.10, x1 = 439.00, y1 = 899.00, x2 = -523.00, y2 = -853.00\n",
      "theta = 1.49, rho = 24.48\n",
      "x0 = 1.91, y0 = 24.41, x1 = -995.00, y1 = 102.00, x2 = 998.00, y2 = -53.00\n",
      "theta = 1.33, rho = -17.10\n",
      "x0 = -4.00, y0 = -16.63, x1 = -976.00, y1 = 216.00, x2 = 968.00, y2 = -250.00\n"
     ]
    },
    {
     "data": {
      "text/plain": [
       "<matplotlib.image.AxesImage at 0x21c0f7eecd0>"
      ]
     },
     "execution_count": 115,
     "metadata": {},
     "output_type": "execute_result"
    },
    {
     "data": {
      "image/png": "[encoded data removed]",
      "text/plain": [
       "<Figure size 640x480 with 1 Axes>"
      ]
     },
     "metadata": {},
     "output_type": "display_data"
    }
   ],
   "source": [
    "# Constructing random test image\n",
    "image = np.zeros((200, 200))\n",
    "image = draw_random_lines(3, image, [200, 200])\n",
    "#image = draw_bezier_noise(2, image, [200, 200])\n",
    "plt.imshow(image, cmap=cm.gray)"
   ]
  }
 ],
 "metadata": {
  "kernelspec": {
   "display_name": "Python 3",
   "language": "python",
   "name": "python3"
  },
  "language_info": {
   "codemirror_mode": {
    "name": "ipython",
    "version": 3
   },
   "file_extension": ".py",
   "mimetype": "text/x-python",
   "name": "python",
   "nbconvert_exporter": "python",
   "pygments_lexer": "ipython3",
   "version": "3.11.1"
  },
  "orig_nbformat": 4
 },
 "nbformat": 4,
 "nbformat_minor": 2
}
